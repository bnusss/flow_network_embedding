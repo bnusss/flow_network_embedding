{
 "cells": [
  {
   "cell_type": "markdown",
   "metadata": {},
   "source": [
    "## 流距离嵌入\n",
    "\n",
    "- window：5, 一句话中，两个词最远距离为5。\n",
    "- 考虑到了词序，例如：“We may encounter many defeats, but we must not be defeated.”, encounter-defeats 词对会+1，而defeats-encounter 词对不会+1"
   ]
  },
  {
   "cell_type": "code",
   "execution_count": 1,
   "metadata": {},
   "outputs": [],
   "source": [
    "import numpy as np\n",
    "import matplotlib.pyplot as plt\n",
    "%matplotlib inline"
   ]
  },
  {
   "cell_type": "code",
   "execution_count": 2,
   "metadata": {},
   "outputs": [],
   "source": [
    "avgdist_file = './data/dist_avg.npy'\n",
    "count_file = './data/count.npy'\n",
    "\n",
    "avgdist = np.load(avgdist_file)\n",
    "count = np.load(count_file)"
   ]
  },
  {
   "cell_type": "code",
   "execution_count": 3,
   "metadata": {},
   "outputs": [],
   "source": [
    "avgdist_flat = avgdist.flatten()\n",
    "avgdist_flat_nonz = np.sort(avgdist_flat[avgdist_flat.nonzero()])"
   ]
  },
  {
   "cell_type": "code",
   "execution_count": 4,
   "metadata": {},
   "outputs": [
    {
     "data": {
      "image/png": "[encoded data removed]",
      "text/plain": [
       "<matplotlib.figure.Figure at 0x7fad4596a350>"
      ]
     },
     "metadata": {},
     "output_type": "display_data"
    }
   ],
   "source": [
    "plt.plot(avgdist_flat_nonz)\n",
    "plt.title('sorted data sequence')\n",
    "plt.ylabel('value')\n",
    "plt.show()"
   ]
  },
  {
   "cell_type": "code",
   "execution_count": 5,
   "metadata": {},
   "outputs": [
    {
     "data": {
      "image/png": "[encoded data removed]",
      "text/plain": [
       "<matplotlib.figure.Figure at 0x7fad45918c10>"
      ]
     },
     "metadata": {},
     "output_type": "display_data"
    }
   ],
   "source": [
    "bins = np.linspace(np.ceil(np.min(avgdist_flat_nonz)), np.floor(np.max(avgdist_flat_nonz)), 30)\n",
    " \n",
    "plt.hist(avgdist_flat_nonz, bins=bins, alpha=0.5)\n",
    "plt.title('Histogram')\n",
    "plt.xlabel('Value (30 evenly spaced bins)')\n",
    "plt.ylabel('Count')\n",
    " \n",
    "plt.show()"
   ]
  },
  {
   "cell_type": "code",
   "execution_count": 6,
   "metadata": {},
   "outputs": [
    {
     "name": "stdout",
     "output_type": "stream",
     "text": [
      "均值: 2.859198\n",
      "方差: 0.551506\n"
     ]
    }
   ],
   "source": [
    "avgdist_var = np.var(avgdist_flat_nonz)\n",
    "avgdist_mean = np.mean(avgdist_flat_nonz)\n",
    "\n",
    "print '均值: %f' % avgdist_mean\n",
    "print '方差: %f' % avgdist_var"
   ]
  },
  {
   "cell_type": "code",
   "execution_count": 7,
   "metadata": {},
   "outputs": [
    {
     "name": "stdout",
     "output_type": "stream",
     "text": [
      "最小值：1.000000\n",
      "平均距离是：1.000000 的词对个数：12814\n"
     ]
    }
   ],
   "source": [
    "avgdist_min = np.min(avgdist_flat_nonz)\n",
    "min_idx = np.where(avgdist == 1.0)\n",
    "\n",
    "print '最小值：%f' % avgdist_min\n",
    "print '平均距离是：%f 的词对个数：%d' % (avgdist_min, len(min_idx[0]))"
   ]
  },
  {
   "cell_type": "markdown",
   "metadata": {},
   "source": [
    "## 结果分析\n",
    "\n",
    "avg_dist 值小的，可能是出现的频次不高，但是都是在一起出现的\n",
    "用 counts 大的排序，更有实际意义"
   ]
  },
  {
   "cell_type": "code",
   "execution_count": 11,
   "metadata": {},
   "outputs": [
    {
     "name": "stdout",
     "output_type": "stream",
     "text": [
      "{'cnt': 1639.0, 'key': 'foo-fighters'}\n",
      "{'cnt': 1593.0, 'key': 'originally-computed'}\n",
      "{'cnt': 1370.0, 'key': 'adequate-yearly'}\n",
      "{'cnt': 1289.0, 'key': 'eyed-peas'}\n",
      "{'cnt': 1239.0, 'key': 'atmospheric-administration'}\n",
      "{'cnt': 1068.0, 'key': 'garden-merit'}\n",
      "{'cnt': 992.0, 'key': 'costa-mesa'}\n",
      "{'cnt': 876.0, 'key': 'palestine-exploration'}\n",
      "{'cnt': 866.0, 'key': 'lonely-hearts'}\n",
      "{'cnt': 838.0, 'key': 'electronic-frontier'}\n",
      "{'cnt': 838.0, 'key': 'sage-publications'}\n",
      "{'cnt': 673.0, 'key': 'simple-minds'}\n",
      "{'cnt': 580.0, 'key': 'deeply-discounted'}\n",
      "{'cnt': 577.0, 'key': 'costs-exemption'}\n",
      "{'cnt': 539.0, 'key': 'jimmy-eat'}\n",
      "{'cnt': 516.0, 'key': 'spider-catalog'}\n",
      "{'cnt': 481.0, 'key': 'coach-composition'}\n",
      "{'cnt': 479.0, 'key': 'statutory-instrument'}\n",
      "{'cnt': 477.0, 'key': 'stanley-cups'}\n",
      "{'cnt': 466.0, 'key': 'aid-ratio'}\n",
      "{'cnt': 459.0, 'key': 'naughty-dog'}\n",
      "{'cnt': 457.0, 'key': 'trade-paperbacks'}\n",
      "{'cnt': 448.0, 'key': 'teen-hunger'}\n",
      "{'cnt': 446.0, 'key': 'merry-wives'}\n",
      "{'cnt': 445.0, 'key': 'restrictions-index'}\n",
      "{'cnt': 439.0, 'key': 'nathan-bedford'}\n",
      "{'cnt': 406.0, 'key': 'blair-witch'}\n",
      "{'cnt': 377.0, 'key': 'diamond-harbour'}\n",
      "{'cnt': 361.0, 'key': 'vampire-weekend'}\n",
      "{'cnt': 351.0, 'key': 'index-unless'}\n",
      "{'cnt': 350.0, 'key': 'hudson-soft'}\n",
      "{'cnt': 349.0, 'key': 'ar-greater'}\n",
      "{'cnt': 349.0, 'key': 'purple-hearts'}\n",
      "{'cnt': 347.0, 'key': 'oliver-hazard'}\n",
      "{'cnt': 343.0, 'key': 'cam-newton'}\n",
      "{'cnt': 339.0, 'key': 'slightly-injured'}\n",
      "{'cnt': 339.0, 'key': 'lie-detector'}\n",
      "{'cnt': 318.0, 'key': 'cooking-vinyl'}\n",
      "{'cnt': 318.0, 'key': 'capability-brown'}\n",
      "{'cnt': 308.0, 'key': 'combination-thereof'}\n",
      "{'cnt': 303.0, 'key': 'gregory-terrace'}\n",
      "{'cnt': 302.0, 'key': 'sunshine-review'}\n",
      "{'cnt': 300.0, 'key': 'gets-rid'}\n",
      "{'cnt': 299.0, 'key': 'hood-canal'}\n",
      "{'cnt': 290.0, 'key': 'leisure-software'}\n",
      "{'cnt': 290.0, 'key': 'seeks-parental'}\n",
      "{'cnt': 289.0, 'key': 'kitty-hawk'}\n",
      "{'cnt': 282.0, 'key': 'tiny-mix'}\n",
      "{'cnt': 281.0, 'key': 'scores-hearing'}\n",
      "{'cnt': 278.0, 'key': 'hay-fever'}\n",
      "{'cnt': 277.0, 'key': 'attention-span'}\n",
      "{'cnt': 277.0, 'key': 'ww-norton'}\n",
      "{'cnt': 273.0, 'key': 'jim-beam'}\n",
      "{'cnt': 272.0, 'key': 'slide-rule'}\n",
      "{'cnt': 271.0, 'key': 'kitty-empire'}\n",
      "{'cnt': 271.0, 'key': 'willow-bunch'}\n",
      "{'cnt': 270.0, 'key': 'alternatives-sunshine'}\n",
      "{'cnt': 270.0, 'key': 'reasonably-priced'}\n",
      "{'cnt': 269.0, 'key': 'bible-belt'}\n",
      "{'cnt': 269.0, 'key': 'oliver-reed'}\n",
      "{'cnt': 266.0, 'key': 'ak-bars'}\n",
      "{'cnt': 264.0, 'key': 'funk-railroad'}\n",
      "{'cnt': 264.0, 'key': 'miracle-network'}\n",
      "{'cnt': 262.0, 'key': 'caroline-sullivan'}\n",
      "{'cnt': 259.0, 'key': 'sufficiently-impressed'}\n",
      "{'cnt': 258.0, 'key': 'fisher-cats'}\n",
      "{'cnt': 247.0, 'key': 'meal-scheme'}\n",
      "{'cnt': 246.0, 'key': 'global-hawk'}\n",
      "{'cnt': 245.0, 'key': 'scoring-summary'}\n",
      "{'cnt': 242.0, 'key': 'pro-shops'}\n",
      "{'cnt': 239.0, 'key': 'demographic-breakdown'}\n",
      "{'cnt': 238.0, 'key': 'distribute-animal'}\n",
      "{'cnt': 234.0, 'key': 'roll-rank'}\n",
      "{'cnt': 234.0, 'key': 'velvet-worm'}\n",
      "{'cnt': 231.0, 'key': 'caroline-garcia'}\n",
      "{'cnt': 229.0, 'key': 'citizen-deaths'}\n",
      "{'cnt': 227.0, 'key': 'classification-symbol'}\n",
      "{'cnt': 226.0, 'key': 'latin-lover'}\n",
      "{'cnt': 224.0, 'key': 'sick-bay'}\n",
      "{'cnt': 223.0, 'key': 'asking-alexandria'}\n",
      "{'cnt': 223.0, 'key': 'bedford-blues'}\n",
      "{'cnt': 221.0, 'key': 'berlin-thunder'}\n",
      "{'cnt': 220.0, 'key': 'samsung-lions'}\n",
      "{'cnt': 219.0, 'key': 'fully-laden'}\n",
      "{'cnt': 219.0, 'key': 'curtis-cup'}\n",
      "{'cnt': 213.0, 'key': 'kid-ink'}\n",
      "{'cnt': 212.0, 'key': 'qt-interval'}\n",
      "{'cnt': 211.0, 'key': 'holy-soap'}\n",
      "{'cnt': 211.0, 'key': 'ace-hood'}\n",
      "{'cnt': 210.0, 'key': 'slide-hampton'}\n",
      "{'cnt': 209.0, 'key': 'anytime-soon'}\n",
      "{'cnt': 206.0, 'key': 'dying-bride'}\n",
      "{'cnt': 206.0, 'key': 'heavily-implied'}\n",
      "{'cnt': 205.0, 'key': 'millennium-challenge'}\n",
      "{'cnt': 204.0, 'key': 'monster-magnet'}\n",
      "{'cnt': 203.0, 'key': 'badly-drawn'}\n",
      "{'cnt': 201.0, 'key': 'beaver-wars'}\n",
      "{'cnt': 201.0, 'key': 'fin-disc'}\n",
      "{'cnt': 200.0, 'key': 'lawyers-guild'}\n",
      "{'cnt': 200.0, 'key': 'gonna-miss'}\n"
     ]
    }
   ],
   "source": [
    "from train import Vocabulary\n",
    "vocab = Vocabulary()\n",
    "\n",
    "words = []\n",
    "for i, val in enumerate(zip(min_idx[0], min_idx[1])):\n",
    "    key_word = '%s-%s' % (vocab.get_word(val[0]), vocab.get_word(val[1]))\n",
    "    count_word = count[val[0], val[1]]\n",
    "    words.append({'key':key_word, 'cnt':count_word})\n",
    "\n",
    "words.sort(key=lambda x:x['cnt'], reverse=True)\n",
    "\n",
    "for i in words[:100]:\n",
    "    print i"
   ]
  },
  {
   "cell_type": "code",
   "execution_count": 13,
   "metadata": {},
   "outputs": [
    {
     "name": "stdout",
     "output_type": "stream",
     "text": [
      "{'cnt': 1102693.0, 'key': 'united-states', 'avgdist': 1.0093471165591874}\n",
      "{'cnt': 760376.0, 'key': 'new-york', 'avgdist': 1.0403366229339168}\n",
      "{'cnt': 468649.0, 'key': 'high-school', 'avgdist': 1.0688297638531181}\n",
      "{'cnt': 392738.0, 'key': 'world-war', 'avgdist': 1.0189693892620526}\n",
      "{'cnt': 276908.0, 'key': 'may-refer', 'avgdist': 1.1273744348303407}\n",
      "{'cnt': 265955.0, 'key': 'also-known', 'avgdist': 1.0779455170987573}\n",
      "{'cnt': 211612.0, 'key': 'new-zealand', 'avgdist': 1.0130852692663932}\n",
      "{'cnt': 201213.0, 'key': 'war-ii', 'avgdist': 1.0226227927618992}\n",
      "{'cnt': 200990.0, 'key': 'los-angeles', 'avgdist': 1.0055077367033185}\n",
      "{'cnt': 196407.0, 'key': 'world-ii', 'avgdist': 2.0065985428217936}\n",
      "{'cnt': 195522.0, 'key': 'new-city', 'avgdist': 2.0166477429649858}\n",
      "{'cnt': 192153.0, 'key': 'first-time', 'avgdist': 1.0718802204493294}\n",
      "{'cnt': 190443.0, 'key': 'took-place', 'avgdist': 1.0701942313448118}\n",
      "{'cnt': 187915.0, 'key': 'york-city', 'avgdist': 1.0241864672857408}\n",
      "{'cnt': 177112.0, 'key': 'two-years', 'avgdist': 1.1502100365870185}\n",
      "{'cnt': 165171.0, 'key': 'united-kingdom', 'avgdist': 1.0456496600492822}\n",
      "{'cnt': 156134.0, 'key': 'made-debut', 'avgdist': 2.7813800965837037}\n",
      "{'cnt': 147599.0, 'key': 'years-later', 'avgdist': 1.0655695499292002}\n",
      "{'cnt': 144342.0, 'key': 'air-force', 'avgdist': 1.0444846267891534}\n",
      "{'cnt': 135557.0, 'key': 'national-team', 'avgdist': 1.6866779288417419}\n",
      "{'cnt': 130534.0, 'key': 'football-league', 'avgdist': 1.0818024422755756}\n",
      "{'cnt': 128255.0, 'key': 'prime-minister', 'avgdist': 1.0330045612256833}\n",
      "{'cnt': 122196.0, 'key': 'summer-olympics', 'avgdist': 1.0257373400111296}\n",
      "{'cnt': 122174.0, 'key': 'world-cup', 'avgdist': 1.0515412444546304}\n",
      "{'cnt': 120763.0, 'key': 'new-jersey', 'avgdist': 1.1022829840265644}\n",
      "{'cnt': 119705.0, 'key': 'years-age', 'avgdist': 2.0365732425546135}\n",
      "{'cnt': 119549.0, 'key': 'de-la', 'avgdist': 1.1842591740625183}\n",
      "{'cnt': 118006.0, 'key': 'median-income', 'avgdist': 1.0587004050641493}\n",
      "{'cnt': 117101.0, 'key': 'san-francisco', 'avgdist': 1.0201193841213996}\n",
      "{'cnt': 114191.0, 'key': 'three-years', 'avgdist': 1.1805045931815992}\n",
      "{'cnt': 112655.0, 'key': 'south-africa', 'avgdist': 1.0598553104611423}\n",
      "{'cnt': 110945.0, 'key': 'civil-war', 'avgdist': 1.0329081977556447}\n",
      "{'cnt': 110460.0, 'key': 'north-america', 'avgdist': 1.1023085279739273}\n",
      "{'cnt': 110385.0, 'key': 'rural-district', 'avgdist': 1.6351315849073698}\n",
      "{'cnt': 109746.0, 'key': 'village-district', 'avgdist': 3.8112915277094381}\n",
      "{'cnt': 109451.0, 'key': 'hong-kong', 'avgdist': 1.015312788371052}\n",
      "{'cnt': 109029.0, 'key': 'railway-station', 'avgdist': 1.1718533601151988}\n",
      "{'cnt': 108805.0, 'key': 'head-coach', 'avgdist': 1.1326685354533339}\n",
      "{'cnt': 108643.0, 'key': 'best-known', 'avgdist': 1.0095818414439954}\n",
      "{'cnt': 106882.0, 'key': 'football-team', 'avgdist': 1.1508579555023297}\n",
      "{'cnt': 103638.0, 'key': 'following-year', 'avgdist': 1.0483992358015399}\n",
      "{'cnt': 102599.0, 'key': 'world-championships', 'avgdist': 1.6250060916773068}\n",
      "{'cnt': 100959.0, 'key': 'state-university', 'avgdist': 1.1624223694767182}\n",
      "{'cnt': 100894.0, 'key': 'national-historic', 'avgdist': 2.6839653497730289}\n",
      "{'cnt': 100845.0, 'key': 'census-population', 'avgdist': 2.4456839704497}\n",
      "{'cnt': 100527.0, 'key': 'studio-album', 'avgdist': 1.0718016055388104}\n",
      "{'cnt': 99717.0, 'key': 'became-first', 'avgdist': 2.1817343080919001}\n",
      "{'cnt': 99680.0, 'key': 'supreme-court', 'avgdist': 1.0484249598715891}\n",
      "{'cnt': 99118.0, 'key': 'years-older', 'avgdist': 3.8679250993765009}\n",
      "{'cnt': 99025.0, 'key': 'average-size', 'avgdist': 1.9921938904317091}\n",
      "{'cnt': 98915.0, 'key': 'school-school', 'avgdist': 3.4493858363241165}\n",
      "{'cnt': 98811.0, 'key': 'can-also', 'avgdist': 1.0773598081185294}\n",
      "{'cnt': 98530.0, 'key': 'also-used', 'avgdist': 1.4339186034710241}\n",
      "{'cnt': 97546.0, 'key': 'school-district', 'avgdist': 1.1931191437885715}\n",
      "{'cnt': 97451.0, 'key': 'district-county', 'avgdist': 3.0161619685790808}\n",
      "{'cnt': 97159.0, 'key': 'one-two', 'avgdist': 2.6380880824215978}\n",
      "{'cnt': 96703.0, 'key': 'film-directed', 'avgdist': 1.5585038726823366}\n",
      "{'cnt': 96575.0, 'key': 'may-also', 'avgdist': 1.1641729225990163}\n",
      "{'cnt': 95517.0, 'key': 'age-older', 'avgdist': 2.0184888553869991}\n",
      "{'cnt': 94680.0, 'key': 'north-carolina', 'avgdist': 1.0608259400084494}\n",
      "{'cnt': 94484.0, 'key': 'years-old', 'avgdist': 1.0466322340290419}\n",
      "{'cnt': 93606.0, 'key': 'national-register', 'avgdist': 1.0252334252077859}\n",
      "{'cnt': 91420.0, 'key': 'african-american', 'avgdist': 1.9708160140013127}\n",
      "{'cnt': 91377.0, 'key': 'film-festival', 'avgdist': 1.0901211464591747}\n",
      "{'cnt': 90195.0, 'key': 'one-first', 'avgdist': 3.062486834081712}\n",
      "{'cnt': 89197.0, 'key': 'album-released', 'avgdist': 2.5591443658419006}\n",
      "{'cnt': 87747.0, 'key': 'district-district', 'avgdist': 3.2255461725187184}\n",
      "{'cnt': 85007.0, 'key': 'two-later', 'avgdist': 2.0740527250697003}\n",
      "{'cnt': 84918.0, 'key': 'national-league', 'avgdist': 1.7398666949292259}\n",
      "{'cnt': 84478.0, 'key': 'historic-places', 'avgdist': 1.0030303747721301}\n",
      "{'cnt': 84372.0, 'key': 'register-historic', 'avgdist': 2.0008652159484188}\n",
      "{'cnt': 84282.0, 'key': 'television-series', 'avgdist': 1.1532474312427328}\n",
      "{'cnt': 84107.0, 'key': 'first-season', 'avgdist': 1.7450866158583709}\n",
      "{'cnt': 83373.0, 'key': 'new-south', 'avgdist': 1.2435200844398067}\n",
      "{'cnt': 83246.0, 'key': 'register-places', 'avgdist': 2.9999639622324197}\n",
      "{'cnt': 83244.0, 'key': 'general-election', 'avgdist': 1.0228364807073183}\n",
      "{'cnt': 82775.0, 'key': 'national-places', 'avgdist': 3.9974267592872246}\n",
      "{'cnt': 81946.0, 'key': 'south-wales', 'avgdist': 1.0285797964513217}\n",
      "{'cnt': 81269.0, 'key': 'early-century', 'avgdist': 2.1853105120033467}\n",
      "{'cnt': 80301.0, 'key': 'music-video', 'avgdist': 1.0784797200532994}\n",
      "{'cnt': 79868.0, 'key': 'world-championship', 'avgdist': 1.6569840236390043}\n",
      "{'cnt': 79737.0, 'key': 'first-two', 'avgdist': 1.5420193887404843}\n",
      "{'cnt': 79282.0, 'key': 'first-round', 'avgdist': 1.1063797583310209}\n",
      "{'cnt': 78219.0, 'key': 'four-years', 'avgdist': 1.1289456525908028}\n",
      "{'cnt': 77397.0, 'key': 'can-used', 'avgdist': 2.2278512087031799}\n",
      "{'cnt': 77107.0, 'key': 'soviet-union', 'avgdist': 1.0200241223235245}\n",
      "{'cnt': 77043.0, 'key': 'washington-dc', 'avgdist': 1.0245966538166997}\n",
      "{'cnt': 75994.0, 'key': 'human-rights', 'avgdist': 1.0461483801352738}\n",
      "{'cnt': 75987.0, 'key': 'debut-album', 'avgdist': 1.2821403661152566}\n",
      "{'cnt': 75756.0, 'key': 'two-one', 'avgdist': 2.9820740271397645}\n",
      "{'cnt': 74052.0, 'key': 'every-females', 'avgdist': 2.0007832334035545}\n",
      "{'cnt': 73820.0, 'key': 'can-found', 'avgdist': 2.1565564887564346}\n",
      "{'cnt': 73732.0, 'key': 'many-years', 'avgdist': 1.1092470026582759}\n",
      "{'cnt': 73710.0, 'key': 'roman-catholic', 'avgdist': 1.0117351784018451}\n",
      "{'cnt': 73566.0, 'key': 'second-war', 'avgdist': 2.0189897507000518}\n",
      "{'cnt': 73307.0, 'key': 'hall-fame', 'avgdist': 2.0010230946567176}\n",
      "{'cnt': 72635.0, 'key': 'award-best', 'avgdist': 2.1954567357334618}\n",
      "{'cnt': 72531.0, 'key': 'took-part', 'avgdist': 1.1381478264466227}\n",
      "{'cnt': 71868.0, 'key': 'several-including', 'avgdist': 2.7977959592586408}\n",
      "{'cnt': 71749.0, 'key': 'five-years', 'avgdist': 1.1184128001783997}\n"
     ]
    }
   ],
   "source": [
    "count_flat = count.flatten()\n",
    "val = np.partition(count_flat, -100)[-100:]\n",
    "\n",
    "words_cnt = []\n",
    "for i in val[::-1]:\n",
    "    idx_0, idx_1 = np.where(i==count)\n",
    "    key_word = '%s-%s' % (vocab.get_word(idx_0[0]), vocab.get_word(idx_1[0]))\n",
    "    avgdist_word = avgdist[idx_0[0], idx_1[0]]\n",
    "    words_cnt.append({'key':key_word, 'cnt':i, 'avgdist': avgdist_word})\n",
    " \n",
    "words_cnt.sort(key=lambda x:x['cnt'], reverse=True)\n",
    "\n",
    "for i in words_cnt:\n",
    "    print i"
   ]
  },
  {
   "cell_type": "code",
   "execution_count": null,
   "metadata": {},
   "outputs": [],
   "source": []
  }
 ],
 "metadata": {
  "kernelspec": {
   "display_name": "Python 2",
   "language": "python",
   "name": "python2"
  },
  "language_info": {
   "codemirror_mode": {
    "name": "ipython",
    "version": 2
   },
   "file_extension": ".py",
   "mimetype": "text/x-python",
   "name": "python",
   "nbconvert_exporter": "python",
   "pygments_lexer": "ipython2",
   "version": "2.7.13"
  }
 },
 "nbformat": 4,
 "nbformat_minor": 2
}
